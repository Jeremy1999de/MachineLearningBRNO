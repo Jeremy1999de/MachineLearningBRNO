{
  "cells": [
    {
      "cell_type": "markdown",
      "metadata": {
        "id": "view-in-github",
        "colab_type": "text"
      },
      "source": [
        "<a href=\"https://colab.research.google.com/github/Jeremy1999de/MachineLearningBRNO/blob/main/Machine_Learning_Project.ipynb\" target=\"_parent\"><img src=\"https://colab.research.google.com/assets/colab-badge.svg\" alt=\"Open In Colab\"/></a>"
      ]
    },
    {
      "cell_type": "markdown",
      "source": [
        "#Import the data\n",
        "\n"
      ],
      "metadata": {
        "id": "qPpTO720yOFS"
      },
      "id": "qPpTO720yOFS"
    },
    {
      "cell_type": "code",
      "source": [
        "from google.colab import drive\n",
        "drive.mount('/content/drive')"
      ],
      "metadata": {
        "colab": {
          "base_uri": "https://localhost:8080/"
        },
        "id": "TqkxS-LpS5_s",
        "outputId": "0b0076be-3f89-4186-9371-5c82082f44e9"
      },
      "id": "TqkxS-LpS5_s",
      "execution_count": 16,
      "outputs": [
        {
          "output_type": "stream",
          "name": "stdout",
          "text": [
            "Drive already mounted at /content/drive; to attempt to forcibly remount, call drive.mount(\"/content/drive\", force_remount=True).\n"
          ]
        }
      ]
    },
    {
      "cell_type": "code",
      "execution_count": 17,
      "id": "d6727e74",
      "metadata": {
        "colab": {
          "base_uri": "https://localhost:8080/"
        },
        "id": "d6727e74",
        "outputId": "dce79505-e366-4472-e14c-89ca71f586f3"
      },
      "outputs": [
        {
          "output_type": "stream",
          "name": "stdout",
          "text": [
            "Unnamed: 0      int64\n",
            "cfo_demod     float64\n",
            "gain_imb      float64\n",
            "iq_imb        float64\n",
            "or_off        float64\n",
            "quadr_err     float64\n",
            "m_power       float64\n",
            "ph_err        float64\n",
            "mag_err       float64\n",
            "evm           float64\n",
            "Tosc          float64\n",
            "Tmix          float64\n",
            "dtype: object\n",
            "Unnamed: 0    int64\n",
            "target        int64\n",
            "dtype: object\n"
          ]
        }
      ],
      "source": [
        "import pandas as pd\n",
        "\n",
        "# Load the training and test data into pandas DataFrames\n",
        "x_train = pd.read_csv('/content/drive/MyDrive/Colab Notebooks/ML Project/x_train.csv')\n",
        "x_test = pd.read_csv('/content/drive/MyDrive/Colab Notebooks/ML Project/x_test.csv')\n",
        "y_train = pd.read_csv('/content/drive/MyDrive/Colab Notebooks/ML Project/y_train.csv')\n",
        "\n",
        "# Print the data types of each column in the training data\n",
        "print(x_train.dtypes)\n",
        "\n",
        "\n",
        "# Print the data type of the target column in the training data\n",
        "print(y_train.dtypes)\n"
      ]
    },
    {
      "cell_type": "markdown",
      "source": [
        "#Preprocessing \n"
      ],
      "metadata": {
        "id": "Bz9XlsKfyXZa"
      },
      "id": "Bz9XlsKfyXZa"
    },
    {
      "cell_type": "code",
      "execution_count": 18,
      "id": "bf1e3352",
      "metadata": {
        "id": "bf1e3352"
      },
      "outputs": [],
      "source": [
        "from sklearn.preprocessing import StandardScaler\n",
        "x_train = x_train.drop(['m_power', 'Tosc', 'Tmix'], axis=1)\n",
        "x_test = x_test.drop(['m_power', 'Tosc', 'Tmix'], axis=1)\n",
        "\n",
        "scaler = StandardScaler()\n",
        "x_train_scaled = scaler.fit_transform(x_train)\n",
        "x_test_scaled = scaler.transform(x_test)\n"
      ]
    },
    {
      "cell_type": "code",
      "execution_count": 19,
      "id": "075c93af",
      "metadata": {
        "id": "075c93af"
      },
      "outputs": [],
      "source": [
        "from sklearn.model_selection import train_test_split\n",
        "import tensorflow as tf\n",
        "# One-hot encode the target values\n",
        "y_train_one_hot = tf.keras.utils.to_categorical(y_train['target'] - 1)\n",
        "\n",
        "\n",
        "x_train_split, x_val_split, y_train_split, y_val_split = train_test_split(x_train_scaled, y_train_one_hot, test_size=0.2, random_state=42)\n",
        "\n"
      ]
    },
    {
      "cell_type": "markdown",
      "source": [
        "#Construction of the model"
      ],
      "metadata": {
        "id": "yus0YsHJycWX"
      },
      "id": "yus0YsHJycWX"
    },
    {
      "cell_type": "code",
      "execution_count": 20,
      "id": "0df390f8",
      "metadata": {
        "id": "0df390f8"
      },
      "outputs": [],
      "source": [
        "def build_mlp_model(input_dim, num_classes, hidden_layers, activation_function=\"relu\", output_activation=\"softmax\", dropout_rate=0.5, l1_coeff=0.001, l2_coeff=0.001):\n",
        "    model = Sequential()\n",
        "    \n",
        "    for i, layer in enumerate(hidden_layers):\n",
        "        if i == 0:\n",
        "            model.add(Dense(layer, input_dim=input_dim, activation=activation_function, kernel_regularizer=l1_l2(l1=l1_coeff, l2=l2_coeff)))\n",
        "        else:\n",
        "            model.add(Dense(layer, activation=activation_function, kernel_regularizer=l1_l2(l1=l1_coeff, l2=l2_coeff)))\n",
        "        model.add(Dropout(dropout_rate))\n",
        "            \n",
        "    model.add(Dense(num_classes, activation=output_activation))\n",
        "    \n",
        "    return model"
      ]
    },
    {
      "cell_type": "code",
      "execution_count": 21,
      "id": "632138e2",
      "metadata": {
        "colab": {
          "base_uri": "https://localhost:8080/"
        },
        "id": "632138e2",
        "outputId": "17913db4-c949-474b-f038-9cbc4e2f201a"
      },
      "outputs": [
        {
          "output_type": "stream",
          "name": "stdout",
          "text": [
            "Training MLP model with hidden layers: [128, 64, 32]\n",
            "Training accuracy: 0.9762\n",
            "Validation accuracy: 0.9987\n",
            "\n",
            "\n",
            "Training MLP model with hidden layers: [64, 64]\n",
            "Training accuracy: 0.9921\n",
            "Validation accuracy: 0.9987\n",
            "\n",
            "\n",
            "Training MLP model with hidden layers: [32, 32, 32, 32]\n",
            "Training accuracy: 0.9355\n",
            "Validation accuracy: 0.9964\n",
            "\n",
            "\n"
          ]
        }
      ],
      "source": [
        "import numpy as np\n",
        "from tensorflow.keras.models import Sequential\n",
        "from tensorflow.keras.layers import Dense\n",
        "from tensorflow.keras.optimizers import Adam\n",
        "from tensorflow.keras.layers import Dropout\n",
        "from tensorflow.keras.regularizers import l1_l2\n",
        "from tensorflow.keras.callbacks import EarlyStopping\n",
        "\n",
        "hidden_layers_list = [\n",
        "    [128, 64, 32],\n",
        "    [64, 64],\n",
        "    [32, 32, 32, 32]\n",
        "]\n",
        "\n",
        "for hidden_layers in hidden_layers_list:\n",
        "    print(f\"Training MLP model with hidden layers: {hidden_layers}\")\n",
        "    model = build_mlp_model(input_dim=x_train_scaled.shape[1], num_classes=len(np.unique(y_train['target'])), hidden_layers=hidden_layers)\n",
        "    \n",
        "    model.compile(optimizer=Adam(learning_rate=0.001), loss='categorical_crossentropy', metrics=['accuracy'])\n",
        "    \n",
        "    early_stopping = EarlyStopping(monitor='val_loss', patience=10, restore_best_weights=True)\n",
        "    \n",
        "    history = model.fit(x_train_split, y_train_split, validation_data=(x_val_split, y_val_split), epochs=100, batch_size=128, verbose=0, callbacks=[early_stopping])\n",
        "    \n",
        "    print(\"Training accuracy: {:.4f}\".format(history.history['accuracy'][-1]))\n",
        "    print(\"Validation accuracy: {:.4f}\".format(history.history['val_accuracy'][-1]))\n",
        "    print(\"\\n\")\n"
      ]
    },
    {
      "cell_type": "code",
      "execution_count": 22,
      "id": "33edd3df",
      "metadata": {
        "colab": {
          "base_uri": "https://localhost:8080/",
          "height": 88
        },
        "id": "33edd3df",
        "outputId": "b38f22e9-e039-4fe9-801a-10ce74312aa3"
      },
      "outputs": [
        {
          "output_type": "execute_result",
          "data": {
            "text/plain": [
              "'\\nThis code trains three different MLP models with varying numbers of hidden layers, neurons in the hidden layers, \\nand regularization techniques. The output will show the training and validation accuracy for each model. \\nThe model uses L1 and L2 regularization, dropout regularization, and early stopping to improve performance and prevent overfitting.\\n'"
            ],
            "application/vnd.google.colaboratory.intrinsic+json": {
              "type": "string"
            }
          },
          "metadata": {},
          "execution_count": 22
        }
      ],
      "source": [
        "# This code trains three different MLP models with varying numbers of hidden layers, neurons in the hidden layers,  and regularization techniques. The output will show the training and validation accuracy for each model. \n",
        "# The model uses L1 and L2 regularization, dropout regularization, and early stopping to improve performance and prevent overfitting.\n"
      ]
    },
    {
      "cell_type": "markdown",
      "source": [
        "#Test and submission\n"
      ],
      "metadata": {
        "id": "xIKxl1weytn2"
      },
      "id": "xIKxl1weytn2"
    },
    {
      "cell_type": "code",
      "execution_count": 23,
      "id": "08c7621a",
      "metadata": {
        "colab": {
          "base_uri": "https://localhost:8080/"
        },
        "id": "08c7621a",
        "outputId": "7bb6b3de-1263-4563-bd0d-34e0b6ff4519"
      },
      "outputs": [
        {
          "output_type": "stream",
          "name": "stdout",
          "text": [
            "Training MLP model with hidden layers: [64, 64]\n"
          ]
        },
        {
          "output_type": "stream",
          "name": "stderr",
          "text": [
            "WARNING:tensorflow:Early stopping conditioned on metric `val_loss` which is not available. Available metrics are: loss,accuracy\n",
            "WARNING:tensorflow:Early stopping conditioned on metric `val_loss` which is not available. Available metrics are: loss,accuracy\n",
            "WARNING:tensorflow:Early stopping conditioned on metric `val_loss` which is not available. Available metrics are: loss,accuracy\n",
            "WARNING:tensorflow:Early stopping conditioned on metric `val_loss` which is not available. Available metrics are: loss,accuracy\n",
            "WARNING:tensorflow:Early stopping conditioned on metric `val_loss` which is not available. Available metrics are: loss,accuracy\n",
            "WARNING:tensorflow:Early stopping conditioned on metric `val_loss` which is not available. Available metrics are: loss,accuracy\n",
            "WARNING:tensorflow:Early stopping conditioned on metric `val_loss` which is not available. Available metrics are: loss,accuracy\n",
            "WARNING:tensorflow:Early stopping conditioned on metric `val_loss` which is not available. Available metrics are: loss,accuracy\n",
            "WARNING:tensorflow:Early stopping conditioned on metric `val_loss` which is not available. Available metrics are: loss,accuracy\n",
            "WARNING:tensorflow:Early stopping conditioned on metric `val_loss` which is not available. Available metrics are: loss,accuracy\n",
            "WARNING:tensorflow:Early stopping conditioned on metric `val_loss` which is not available. Available metrics are: loss,accuracy\n",
            "WARNING:tensorflow:Early stopping conditioned on metric `val_loss` which is not available. Available metrics are: loss,accuracy\n",
            "WARNING:tensorflow:Early stopping conditioned on metric `val_loss` which is not available. Available metrics are: loss,accuracy\n",
            "WARNING:tensorflow:Early stopping conditioned on metric `val_loss` which is not available. Available metrics are: loss,accuracy\n",
            "WARNING:tensorflow:Early stopping conditioned on metric `val_loss` which is not available. Available metrics are: loss,accuracy\n",
            "WARNING:tensorflow:Early stopping conditioned on metric `val_loss` which is not available. Available metrics are: loss,accuracy\n",
            "WARNING:tensorflow:Early stopping conditioned on metric `val_loss` which is not available. Available metrics are: loss,accuracy\n",
            "WARNING:tensorflow:Early stopping conditioned on metric `val_loss` which is not available. Available metrics are: loss,accuracy\n",
            "WARNING:tensorflow:Early stopping conditioned on metric `val_loss` which is not available. Available metrics are: loss,accuracy\n",
            "WARNING:tensorflow:Early stopping conditioned on metric `val_loss` which is not available. Available metrics are: loss,accuracy\n",
            "WARNING:tensorflow:Early stopping conditioned on metric `val_loss` which is not available. Available metrics are: loss,accuracy\n",
            "WARNING:tensorflow:Early stopping conditioned on metric `val_loss` which is not available. Available metrics are: loss,accuracy\n",
            "WARNING:tensorflow:Early stopping conditioned on metric `val_loss` which is not available. Available metrics are: loss,accuracy\n",
            "WARNING:tensorflow:Early stopping conditioned on metric `val_loss` which is not available. Available metrics are: loss,accuracy\n",
            "WARNING:tensorflow:Early stopping conditioned on metric `val_loss` which is not available. Available metrics are: loss,accuracy\n",
            "WARNING:tensorflow:Early stopping conditioned on metric `val_loss` which is not available. Available metrics are: loss,accuracy\n",
            "WARNING:tensorflow:Early stopping conditioned on metric `val_loss` which is not available. Available metrics are: loss,accuracy\n",
            "WARNING:tensorflow:Early stopping conditioned on metric `val_loss` which is not available. Available metrics are: loss,accuracy\n",
            "WARNING:tensorflow:Early stopping conditioned on metric `val_loss` which is not available. Available metrics are: loss,accuracy\n",
            "WARNING:tensorflow:Early stopping conditioned on metric `val_loss` which is not available. Available metrics are: loss,accuracy\n",
            "WARNING:tensorflow:Early stopping conditioned on metric `val_loss` which is not available. Available metrics are: loss,accuracy\n",
            "WARNING:tensorflow:Early stopping conditioned on metric `val_loss` which is not available. Available metrics are: loss,accuracy\n",
            "WARNING:tensorflow:Early stopping conditioned on metric `val_loss` which is not available. Available metrics are: loss,accuracy\n",
            "WARNING:tensorflow:Early stopping conditioned on metric `val_loss` which is not available. Available metrics are: loss,accuracy\n",
            "WARNING:tensorflow:Early stopping conditioned on metric `val_loss` which is not available. Available metrics are: loss,accuracy\n",
            "WARNING:tensorflow:Early stopping conditioned on metric `val_loss` which is not available. Available metrics are: loss,accuracy\n",
            "WARNING:tensorflow:Early stopping conditioned on metric `val_loss` which is not available. Available metrics are: loss,accuracy\n",
            "WARNING:tensorflow:Early stopping conditioned on metric `val_loss` which is not available. Available metrics are: loss,accuracy\n",
            "WARNING:tensorflow:Early stopping conditioned on metric `val_loss` which is not available. Available metrics are: loss,accuracy\n",
            "WARNING:tensorflow:Early stopping conditioned on metric `val_loss` which is not available. Available metrics are: loss,accuracy\n",
            "WARNING:tensorflow:Early stopping conditioned on metric `val_loss` which is not available. Available metrics are: loss,accuracy\n",
            "WARNING:tensorflow:Early stopping conditioned on metric `val_loss` which is not available. Available metrics are: loss,accuracy\n",
            "WARNING:tensorflow:Early stopping conditioned on metric `val_loss` which is not available. Available metrics are: loss,accuracy\n",
            "WARNING:tensorflow:Early stopping conditioned on metric `val_loss` which is not available. Available metrics are: loss,accuracy\n",
            "WARNING:tensorflow:Early stopping conditioned on metric `val_loss` which is not available. Available metrics are: loss,accuracy\n",
            "WARNING:tensorflow:Early stopping conditioned on metric `val_loss` which is not available. Available metrics are: loss,accuracy\n",
            "WARNING:tensorflow:Early stopping conditioned on metric `val_loss` which is not available. Available metrics are: loss,accuracy\n",
            "WARNING:tensorflow:Early stopping conditioned on metric `val_loss` which is not available. Available metrics are: loss,accuracy\n",
            "WARNING:tensorflow:Early stopping conditioned on metric `val_loss` which is not available. Available metrics are: loss,accuracy\n",
            "WARNING:tensorflow:Early stopping conditioned on metric `val_loss` which is not available. Available metrics are: loss,accuracy\n",
            "WARNING:tensorflow:Early stopping conditioned on metric `val_loss` which is not available. Available metrics are: loss,accuracy\n",
            "WARNING:tensorflow:Early stopping conditioned on metric `val_loss` which is not available. Available metrics are: loss,accuracy\n",
            "WARNING:tensorflow:Early stopping conditioned on metric `val_loss` which is not available. Available metrics are: loss,accuracy\n",
            "WARNING:tensorflow:Early stopping conditioned on metric `val_loss` which is not available. Available metrics are: loss,accuracy\n",
            "WARNING:tensorflow:Early stopping conditioned on metric `val_loss` which is not available. Available metrics are: loss,accuracy\n",
            "WARNING:tensorflow:Early stopping conditioned on metric `val_loss` which is not available. Available metrics are: loss,accuracy\n",
            "WARNING:tensorflow:Early stopping conditioned on metric `val_loss` which is not available. Available metrics are: loss,accuracy\n",
            "WARNING:tensorflow:Early stopping conditioned on metric `val_loss` which is not available. Available metrics are: loss,accuracy\n",
            "WARNING:tensorflow:Early stopping conditioned on metric `val_loss` which is not available. Available metrics are: loss,accuracy\n",
            "WARNING:tensorflow:Early stopping conditioned on metric `val_loss` which is not available. Available metrics are: loss,accuracy\n",
            "WARNING:tensorflow:Early stopping conditioned on metric `val_loss` which is not available. Available metrics are: loss,accuracy\n",
            "WARNING:tensorflow:Early stopping conditioned on metric `val_loss` which is not available. Available metrics are: loss,accuracy\n",
            "WARNING:tensorflow:Early stopping conditioned on metric `val_loss` which is not available. Available metrics are: loss,accuracy\n",
            "WARNING:tensorflow:Early stopping conditioned on metric `val_loss` which is not available. Available metrics are: loss,accuracy\n",
            "WARNING:tensorflow:Early stopping conditioned on metric `val_loss` which is not available. Available metrics are: loss,accuracy\n",
            "WARNING:tensorflow:Early stopping conditioned on metric `val_loss` which is not available. Available metrics are: loss,accuracy\n",
            "WARNING:tensorflow:Early stopping conditioned on metric `val_loss` which is not available. Available metrics are: loss,accuracy\n",
            "WARNING:tensorflow:Early stopping conditioned on metric `val_loss` which is not available. Available metrics are: loss,accuracy\n",
            "WARNING:tensorflow:Early stopping conditioned on metric `val_loss` which is not available. Available metrics are: loss,accuracy\n",
            "WARNING:tensorflow:Early stopping conditioned on metric `val_loss` which is not available. Available metrics are: loss,accuracy\n",
            "WARNING:tensorflow:Early stopping conditioned on metric `val_loss` which is not available. Available metrics are: loss,accuracy\n",
            "WARNING:tensorflow:Early stopping conditioned on metric `val_loss` which is not available. Available metrics are: loss,accuracy\n",
            "WARNING:tensorflow:Early stopping conditioned on metric `val_loss` which is not available. Available metrics are: loss,accuracy\n",
            "WARNING:tensorflow:Early stopping conditioned on metric `val_loss` which is not available. Available metrics are: loss,accuracy\n",
            "WARNING:tensorflow:Early stopping conditioned on metric `val_loss` which is not available. Available metrics are: loss,accuracy\n",
            "WARNING:tensorflow:Early stopping conditioned on metric `val_loss` which is not available. Available metrics are: loss,accuracy\n",
            "WARNING:tensorflow:Early stopping conditioned on metric `val_loss` which is not available. Available metrics are: loss,accuracy\n",
            "WARNING:tensorflow:Early stopping conditioned on metric `val_loss` which is not available. Available metrics are: loss,accuracy\n",
            "WARNING:tensorflow:Early stopping conditioned on metric `val_loss` which is not available. Available metrics are: loss,accuracy\n",
            "WARNING:tensorflow:Early stopping conditioned on metric `val_loss` which is not available. Available metrics are: loss,accuracy\n",
            "WARNING:tensorflow:Early stopping conditioned on metric `val_loss` which is not available. Available metrics are: loss,accuracy\n",
            "WARNING:tensorflow:Early stopping conditioned on metric `val_loss` which is not available. Available metrics are: loss,accuracy\n",
            "WARNING:tensorflow:Early stopping conditioned on metric `val_loss` which is not available. Available metrics are: loss,accuracy\n",
            "WARNING:tensorflow:Early stopping conditioned on metric `val_loss` which is not available. Available metrics are: loss,accuracy\n",
            "WARNING:tensorflow:Early stopping conditioned on metric `val_loss` which is not available. Available metrics are: loss,accuracy\n",
            "WARNING:tensorflow:Early stopping conditioned on metric `val_loss` which is not available. Available metrics are: loss,accuracy\n",
            "WARNING:tensorflow:Early stopping conditioned on metric `val_loss` which is not available. Available metrics are: loss,accuracy\n",
            "WARNING:tensorflow:Early stopping conditioned on metric `val_loss` which is not available. Available metrics are: loss,accuracy\n",
            "WARNING:tensorflow:Early stopping conditioned on metric `val_loss` which is not available. Available metrics are: loss,accuracy\n",
            "WARNING:tensorflow:Early stopping conditioned on metric `val_loss` which is not available. Available metrics are: loss,accuracy\n",
            "WARNING:tensorflow:Early stopping conditioned on metric `val_loss` which is not available. Available metrics are: loss,accuracy\n",
            "WARNING:tensorflow:Early stopping conditioned on metric `val_loss` which is not available. Available metrics are: loss,accuracy\n",
            "WARNING:tensorflow:Early stopping conditioned on metric `val_loss` which is not available. Available metrics are: loss,accuracy\n",
            "WARNING:tensorflow:Early stopping conditioned on metric `val_loss` which is not available. Available metrics are: loss,accuracy\n",
            "WARNING:tensorflow:Early stopping conditioned on metric `val_loss` which is not available. Available metrics are: loss,accuracy\n",
            "WARNING:tensorflow:Early stopping conditioned on metric `val_loss` which is not available. Available metrics are: loss,accuracy\n",
            "WARNING:tensorflow:Early stopping conditioned on metric `val_loss` which is not available. Available metrics are: loss,accuracy\n",
            "WARNING:tensorflow:Early stopping conditioned on metric `val_loss` which is not available. Available metrics are: loss,accuracy\n",
            "WARNING:tensorflow:Early stopping conditioned on metric `val_loss` which is not available. Available metrics are: loss,accuracy\n",
            "WARNING:tensorflow:Early stopping conditioned on metric `val_loss` which is not available. Available metrics are: loss,accuracy\n"
          ]
        },
        {
          "output_type": "stream",
          "name": "stdout",
          "text": [
            "Training accuracy: 0.9895\n",
            "120/120 [==============================] - 1s 2ms/step\n"
          ]
        }
      ],
      "source": [
        "\n",
        "best_hidden_layers = [64, 64]  # Replace this with the best model architecture you found earlier\n",
        "\n",
        "print(f\"Training MLP model with hidden layers: {best_hidden_layers}\")\n",
        "best_model = build_mlp_model(input_dim=x_train_scaled.shape[1], num_classes=len(np.unique(y_train['target'])), hidden_layers=best_hidden_layers)\n",
        "\n",
        "best_model.compile(optimizer=Adam(learning_rate=0.001), loss='categorical_crossentropy', metrics=['accuracy'])\n",
        "\n",
        "early_stopping = EarlyStopping(monitor='val_loss', patience=10, restore_best_weights=True)\n",
        "\n",
        "history = best_model.fit(x_train_scaled, y_train_one_hot, epochs=100, batch_size=128, verbose=0, callbacks=[early_stopping])\n",
        "print(\"Training accuracy: {:.4f}\".format(history.history['accuracy'][-1]))\n",
        "\n",
        "y_test_pred = best_model.predict(x_test_scaled)\n",
        "y_test_pred_labels = np.argmax(y_test_pred, axis=1) + 1  # Convert the predictions back to original class labels\n",
        "submission = pd.DataFrame({'id': x_test['Unnamed: 0'], 'target': y_test_pred_labels})\n",
        "submission.to_csv('submission.csv', index=False)"
      ]
    },
    {
      "cell_type": "markdown",
      "source": [
        "#SVM"
      ],
      "metadata": {
        "id": "hu2XdPYFy6eM"
      },
      "id": "hu2XdPYFy6eM"
    },
    {
      "cell_type": "code",
      "execution_count": 24,
      "id": "a5d0e59d",
      "metadata": {
        "colab": {
          "base_uri": "https://localhost:8080/"
        },
        "id": "a5d0e59d",
        "outputId": "c10c5137-f63a-4f58-8c6f-f1bc5c59c2e7"
      },
      "outputs": [
        {
          "output_type": "stream",
          "name": "stdout",
          "text": [
            "Fitting 5 folds for each of 12 candidates, totalling 60 fits\n",
            "SVM Validation accuracy: 1.0000\n",
            "SVM training time: 0.2375 seconds\n",
            "MLP training time: 26.8288 seconds\n"
          ]
        }
      ],
      "source": [
        "from sklearn.svm import SVC\n",
        "from sklearn.model_selection import GridSearchCV\n",
        "import time\n",
        "from sklearn.metrics import accuracy_score, classification_report\n",
        "\n",
        "x_train_split, x_val_split, y_train_split, y_val_split = train_test_split(x_train_scaled, y_train['target'], test_size=0.2, random_state=42)\n",
        "\n",
        "param_grid = {\n",
        "    'C': [0.1, 1, 10],\n",
        "    'kernel': ['linear', 'rbf'],\n",
        "    'gamma': ['scale', 'auto']\n",
        "}\n",
        "\n",
        "svm = SVC()\n",
        "grid_search = GridSearchCV(svm, param_grid, cv=5, verbose=2, n_jobs=-1)\n",
        "grid_search.fit(x_train_split, y_train_split)\n",
        "\n",
        "best_svm = grid_search.best_estimator_\n",
        "y_val_pred = best_svm.predict(x_val_split)\n",
        "val_accuracy = accuracy_score(y_val_split, y_val_pred)\n",
        "print(f\"SVM Validation accuracy: {val_accuracy:.4f}\")\n",
        "\n",
        "start_time_svm = time.time()\n",
        "best_svm.fit(x_train_scaled, y_train['target'])\n",
        "end_time_svm = time.time()\n",
        "svm_train_time = end_time_svm - start_time_svm\n",
        "\n",
        "start_time_mlp = time.time()\n",
        "best_model.fit(x_train_scaled, y_train_one_hot, epochs=100, batch_size=128, verbose=0)\n",
        "end_time_mlp = time.time()\n",
        "mlp_train_time = end_time_mlp - start_time_mlp\n",
        "\n",
        "print(f\"SVM training time: {svm_train_time:.4f} seconds\")\n",
        "print(f\"MLP training time: {mlp_train_time:.4f} seconds\")"
      ]
    }
  ],
  "metadata": {
    "kernelspec": {
      "display_name": "Python 3 (ipykernel)",
      "language": "python",
      "name": "python3"
    },
    "language_info": {
      "codemirror_mode": {
        "name": "ipython",
        "version": 3
      },
      "file_extension": ".py",
      "mimetype": "text/x-python",
      "name": "python",
      "nbconvert_exporter": "python",
      "pygments_lexer": "ipython3",
      "version": "3.9.13"
    },
    "colab": {
      "provenance": [],
      "include_colab_link": true
    }
  },
  "nbformat": 4,
  "nbformat_minor": 5
}